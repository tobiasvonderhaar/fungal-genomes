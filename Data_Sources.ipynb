{
 "cells": [
  {
   "cell_type": "markdown",
   "metadata": {},
   "source": [
    "<h1>A survey of the translational machinery across the fungal kingdom</h1>"
   ]
  },
  {
   "cell_type": "markdown",
   "metadata": {},
   "source": [
    "<h2>1. Data sources</h2>\n",
    "\n",
    "<p>Data for this project came from\n",
    "    <ul>\n",
    "        <li>The <a href=\"http://fungi.ensembl.org\" target=\"blank\">fungal division of ENSEMBL</a></li>\n",
    "        <li>The JGI's <a href=\"https://genome.jgi.doe.gov/programs/fungi/\" target=\"blank\">MycoCosm portal</a>.</li>\n",
    "        <li>The NCBI's <a href=\"https://www.ncbi.nlm.nih.gov/genome/\" target=\"blank\">Genome Section</a>.</li>\n",
    "    </ul>\n",
    "</p>"
   ]
  },
  {
   "cell_type": "code",
   "execution_count": 1,
   "metadata": {
    "collapsed": true
   },
   "outputs": [],
   "source": [
    "import requests\n",
    "import urllib\n",
    "import pandas as pd\n",
    "import numpy as np\n",
    "import matplotlib.pyplot as plt\n",
    "from bs4 import BeautifulSoup\n",
    "#from matplotlib_venn import venn3"
   ]
  },
  {
   "cell_type": "markdown",
   "metadata": {},
   "source": [
    "<h3>Fungal Genomes in ENSEMBL</h3>"
   ]
  },
  {
   "cell_type": "code",
   "execution_count": 3,
   "metadata": {
    "collapsed": true
   },
   "outputs": [],
   "source": [
    "#Download the species list from ensembl\n",
    "ensembl_url = 'http://fungi.ensembl.org/species.html'\n",
    "ensembl_r = requests.get(ensembl_url)"
   ]
  },
  {
   "cell_type": "code",
   "execution_count": 4,
   "metadata": {
    "collapsed": true
   },
   "outputs": [],
   "source": [
    "#extract the species table from the html data\n",
    "ensembl_soup = BeautifulSoup(ensembl_r.text,'lxml')\n",
    "ensembl_html = ensembl_soup.find('table')\n",
    "ensembl_table = pd.read_html(str(ensembl_html))\n",
    "#only keep columns with relevant information\n",
    "ensembl_table = ensembl_table[0][['Name','Taxon ID','Assembly','Accession']]\n",
    "#recover species names from the \"name\" column (remove strain names)\n",
    "tvar = ensembl_table['Name'].str.split(' ')\n",
    "ensembl_table['Species'] = tvar.str.get(0) + ' ' + tvar.str.get(1)\n",
    "#reorder columns\n",
    "ensembl_table = ensembl_table[['Species','Name','Taxon ID','Assembly','Accession']]\n",
    "ensembl_unique_species = pd.unique(ensembl_table.Species)"
   ]
  },
  {
   "cell_type": "markdown",
   "metadata": {},
   "source": [
    "<h3>Fungal Genomes at the JGI</h3>\n"
   ]
  },
  {
   "cell_type": "code",
   "execution_count": 5,
   "metadata": {
    "collapsed": true
   },
   "outputs": [],
   "source": [
    "#download the species lisy from JGI\n",
    "jgi_url = 'https://genome.jgi.doe.gov/fungi/fungi.info.html'\n",
    "jgi_r = requests.get(jgi_url)"
   ]
  },
  {
   "cell_type": "code",
   "execution_count": 6,
   "metadata": {
    "collapsed": true
   },
   "outputs": [],
   "source": [
    "#extract the species table from the html data\n",
    "jgi_soup = BeautifulSoup(jgi_r.text,'lxml')\n",
    "jgi_html = jgi_soup.find('table')\n",
    "jgi_table = pd.read_html(str(jgi_html))\n",
    "jgi_table = jgi_table[0][1]\n",
    "#recover species names (remove strain names)\n",
    "tvar = jgi_table.str.split(' ')\n",
    "jgi_species = tvar.str.get(0) + ' ' + tvar.str.get(1)\n",
    "jgi_unique_species = pd.unique(jgi_species)"
   ]
  },
  {
   "cell_type": "markdown",
   "metadata": {},
   "source": [
    "<h3>Fungal Genomes at the NCBI</h3>"
   ]
  },
  {
   "cell_type": "code",
   "execution_count": 19,
   "metadata": {
    "collapsed": true
   },
   "outputs": [],
   "source": [
    "#file downloaded from 'ftp://ftp.ncbi.nlm.nih.gov/genomes/GENOME_REPORTS/eukaryotes.txt' on 11/02/2018 \n",
    "#and filtered for fungal species\n",
    "ncbi_table = pd.read_csv('180211ncbi.csv')\n",
    "#recover species names (remove strain names)\n",
    "tvar = ncbi_table['#Organism/Name'].str.split(' ')\n",
    "ncbi_species = tvar.str.get(0) + ' ' + tvar.str.get(1)\n",
    "ncbi_table['Species'] = ncbi_species\n",
    "ncbi_unique_species = pd.unique(ncbi_species)"
   ]
  },
  {
   "cell_type": "markdown",
   "metadata": {},
   "source": [
    "<h3>Dataset overlap</h3>"
   ]
  },
  {
   "cell_type": "code",
   "execution_count": 24,
   "metadata": {},
   "outputs": [
    {
     "name": "stdout",
     "output_type": "stream",
     "text": [
      "Found genomes for 1695 species.\n"
     ]
    }
   ],
   "source": [
    "all_species = np.concatenate([ensembl_unique_species, jgi_unique_species,ncbi_unique_species])\n",
    "all_unique_species = np.unique(all_species)\n",
    "print('Found genomes for ' + str(all_unique_species.shape[0]) + ' species.')\n"
   ]
  },
  {
   "cell_type": "code",
   "execution_count": 15,
   "metadata": {
    "collapsed": true
   },
   "outputs": [],
   "source": [
    "ensembl, jgi, ncbi = [],[],[]\n",
    "for species in all_unique_species:\n",
    "    if species in jgi_unique_species and species in ensembl_unique_species and species in ncbi_unique_species:\n",
    "        ensembl.append(1); jgi.append(1); ncbi.append(1)\n",
    "    elif species in jgi_unique_species and species in ensembl_unique_species:\n",
    "        ensembl.append(1); jgi.append(1); ncbi.append(0)\n",
    "    elif species in jgi_unique_species and species in ncbi_unique_species: \n",
    "        ensembl.append(0); jgi.append(1); ncbi.append(1)\n",
    "    elif species in ensembl_unique_species and species in ncbi_unique_species: \n",
    "        ensembl.append(1); jgi.append(0); ncbi.append(1)\n",
    "    elif species in ensembl_unique_species:\n",
    "        ensembl.append(1); jgi.append(0); ncbi.append(0)\n",
    "    elif species in jgi_unique_species:\n",
    "        ensembl.append(0); jgi.append(1); ncbi.append(0)\n",
    "    elif species in ncbi_unique_species:\n",
    "        ensembl.append(0); jgi.append(0); ncbi.append(1)\n",
    "    else:\n",
    "        ensembl.append(0); jgi.append(0); ncbi.append(0)\n",
    "\n",
    "species_master = pd.DataFrame(\n",
    "    {'Species': all_unique_species,\n",
    "     'ENSEMBL': ensembl,\n",
    "     'JGI': jgi,\n",
    "     'NCBI': ncbi\n",
    "    })\n",
    "species_master = species_master[['Species','ENSEMBL','JGI','NCBI']]"
   ]
  },
  {
   "cell_type": "code",
   "execution_count": 75,
   "metadata": {},
   "outputs": [],
   "source": [
    "#determine the highest status entry for ncbi genomes with multiple associated genome projects\n",
    "Highest_Status = []\n",
    "for entry in range(species_master.shape[0]):\n",
    "    this_genome_set = ncbi_table[ncbi_table['Species'] == species_master.Species[entry]]\n",
    "    if this_genome_set.shape[0] > 0:\n",
    "        if 'Complete Genome' in this_genome_set['Status'].values:\n",
    "            Highest_Status.append('Complete Genome')\n",
    "        elif 'Chromosome' in this_genome_set['Status'].values:\n",
    "            Highest_Status.append('Chromosome')\n",
    "        elif 'Scaffold' in this_genome_set['Status'].values:\n",
    "            Highest_Status.append('Scaffold')\n",
    "        elif 'Contig' in this_genome_set['Status'].values:\n",
    "            Highest_Status.append('Contig')\n",
    "        else:\n",
    "            Highest_Status.append('')\n",
    "    else:\n",
    "        Highest_Status.append('')\n",
    "species_master['Highest_Status'] = Highest_Status"
   ]
  },
  {
   "cell_type": "code",
   "execution_count": 165,
   "metadata": {},
   "outputs": [],
   "source": [
    "#split species master into subsets depending on whether ncbi is the only database or not\n",
    "ncbi_only = pd.DataFrame()\n",
    "ncbi_ENSEMBL = pd.DataFrame()\n",
    "ncbi_JGI = pd.DataFrame()\n",
    "temp = species_master[species_master['NCBI'] == 1]\n",
    "for row in range(temp.shape[0]):\n",
    "    this_row = pd.DataFrame(temp.iloc[row,:]).transpose()\n",
    "    if int(this_row.ENSEMBL) == 1:\n",
    "        ncbi_ENSEMBL = pd.concat([ncbi_ENSEMBL, this_row])\n",
    "    elif int(this_row.JGI) == 1:\n",
    "        ncbi_JGI = pd.concat([ncbi_JGI, this_row])\n",
    "    else:\n",
    "        ncbi_only = pd.concat([ncbi_only, this_row])"
   ]
  },
  {
   "cell_type": "code",
   "execution_count": 166,
   "metadata": {},
   "outputs": [
    {
     "data": {
      "image/png": "[encoded data removed]",
      "text/plain": [
       "<matplotlib.figure.Figure at 0x1872c4dd7b8>"
      ]
     },
     "metadata": {},
     "output_type": "display_data"
    }
   ],
   "source": [
    "#ransform data for constructing pie charts in pyplot\n",
    "ncbi_only_count = ncbi_only['Highest_Status'].value_counts()\n",
    "ncbi_only_count = dict(ncbi_only_count)\n",
    "ncbi_only_labels = ncbi_only_count.keys()\n",
    "ncbi_only_sizes = ncbi_only_count.values()\n",
    "\n",
    "ncbi_ENSEMBL_count = ncbi_ENSEMBL['Highest_Status'].value_counts()\n",
    "ncbi_ENSEMBL_count = dict(ncbi_ENSEMBL_count)\n",
    "ncbi_ENSEMBL_labels = ncbi_ENSEMBL_count.keys()\n",
    "ncbi_ENSEMBL_sizes = ncbi_ENSEMBL_count.values()\n",
    "\n",
    "ncbi_JGI_count = ncbi_JGI['Highest_Status'].value_counts()\n",
    "ncbi_JGI_count = dict(ncbi_JGI_count)\n",
    "ncbi_JGI_labels = ncbi_JGI_count.keys()\n",
    "ncbi_JGI_sizes = ncbi_JGI_count.values()\n",
    "\n",
    "f, (ax1,ax2,ax3) = plt.subplots(1,3)\n",
    "ax1.pie(ncbi_ENSEMBL_sizes, labels=ncbi_ENSEMBL_labels)\n",
    "ax1.set_title('NCBI and ENSEMBL')\n",
    "ax1.axis('equal')\n",
    "ax2.pie(ncbi_JGI_sizes, labels=ncbi_JGI_labels)\n",
    "ax2.set_title('NCBI and JGI')\n",
    "ax2.axis('equal')\n",
    "ax3.pie(ncbi_only_sizes, labels=ncbi_only_labels)\n",
    "ax3.set_title('NCBI only')\n",
    "ax3.axis('equal')\n",
    "f.subplots_adjust(wspace=2)\n",
    "plt.show()"
   ]
  },
  {
   "cell_type": "code",
   "execution_count": 16,
   "metadata": {},
   "outputs": [
    {
     "name": "stderr",
     "output_type": "stream",
     "text": [
      "/home/tobias/anaconda3/lib/python3.6/site-packages/matplotlib_venn/_venn3.py:117: UserWarning: Bad circle positioning\n",
      "  warnings.warn(\"Bad circle positioning\")\n"
     ]
    },
    {
     "data": {
      "image/png": "[encoded data removed]",
      "text/plain": [
       "<matplotlib.figure.Figure at 0x7fd306121eb8>"
      ]
     },
     "metadata": {},
     "output_type": "display_data"
    }
   ],
   "source": [
    "#Abc, aBc, ABc, abC, AbC, aBC, ABC\n",
    "venn3(subsets=(ensembl,jgi,ensembl_jgi,ncbi,ensembl_ncbi,jgi_ncbi,all_three), set_labels=(\"ENSEMBL Fungi\",\"JGI Mycocosm\",\"NCBI\"))\n",
    "plt.show()"
   ]
  },
  {
   "cell_type": "code",
   "execution_count": null,
   "metadata": {},
   "outputs": [],
   "source": []
  },
  {
   "cell_type": "code",
   "execution_count": null,
   "metadata": {
    "collapsed": true
   },
   "outputs": [],
   "source": []
  }
 ],
 "metadata": {
  "kernelspec": {
   "display_name": "Python 3",
   "language": "python",
   "name": "python3"
  },
  "language_info": {
   "codemirror_mode": {
    "name": "ipython",
    "version": 3
   },
   "file_extension": ".py",
   "mimetype": "text/x-python",
   "name": "python",
   "nbconvert_exporter": "python",
   "pygments_lexer": "ipython3",
   "version": "3.6.3"
  }
 },
 "nbformat": 4,
 "nbformat_minor": 2
}
